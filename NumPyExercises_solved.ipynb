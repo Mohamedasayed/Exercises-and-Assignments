{
 "cells": [
  {
   "cell_type": "markdown",
   "id": "f22321c4-05e7-4bdd-a258-1bb20b89b9f2",
   "metadata": {},
   "source": [
    "# NumPy Exercises Solutions\n",
    "\n",
    "These are my solutions that I wrote while working on the article [NumPy Examples: Forty-Five Practice Questions To Make You an Expert](https://codesolid.com/numpy-practice-questions-to-make-you-an-expert/).  I've tried to list the original questions in the comments."
   ]
  },
  {
   "cell_type": "code",
   "execution_count": 1,
   "id": "5f072d39-1dd8-412d-8e99-ee3209251b93",
   "metadata": {},
   "outputs": [],
   "source": [
    "import numpy as np\n",
    "import string"
   ]
  },
  {
   "cell_type": "markdown",
   "id": "fc249983-6007-4c27-9287-712075a77864",
   "metadata": {},
   "source": [
    "## Array Creation\n",
    "\n",
    "NumPy supports a variety of methods for array creation."
   ]
  },
  {
   "cell_type": "code",
   "execution_count": 3,
   "id": "f426501a-74cf-4af1-bc18-034534b3c024",
   "metadata": {},
   "outputs": [
    {
     "data": {
      "text/plain": [
       "array([ 10,  20,  30,  40,  50,  60,  70,  80,  90, 100])"
      ]
     },
     "execution_count": 3,
     "metadata": {},
     "output_type": "execute_result"
    }
   ],
   "source": [
    "# How would you create a one dimensional NumPy array of the numbers from 10 to 100, counting by 10?\n",
    "\n",
    "arr1 = np.arange(10,101,10)\n",
    "arr1"
   ]
  },
  {
   "cell_type": "code",
   "execution_count": 4,
   "id": "80352bc0-bb0a-49ea-97fb-dd396bdd08ab",
   "metadata": {},
   "outputs": [
    {
     "name": "stdout",
     "output_type": "stream",
     "text": [
      "[10, 20, 30, 40, 50, 60, 70, 80, 90, 100]\n"
     ]
    }
   ],
   "source": [
    "# How could you do the same thing with a standard Python range and a list?\n",
    "list1 = []\n",
    "for i in range (10,101,10):\n",
    "    lis1 = list1.append(i)\n",
    "\n",
    "print(list1)"
   ]
  },
  {
   "cell_type": "code",
   "execution_count": 7,
   "id": "6e81bf28-4463-485c-a47f-155fb068674f",
   "metadata": {},
   "outputs": [
    {
     "ename": "TypeError",
     "evalue": "array() missing required argument 'object' (pos 0)",
     "output_type": "error",
     "traceback": [
      "\u001b[1;31m---------------------------------------------------------------------------\u001b[0m",
      "\u001b[1;31mTypeError\u001b[0m                                 Traceback (most recent call last)",
      "Cell \u001b[1;32mIn[7], line 3\u001b[0m\n\u001b[0;32m      1\u001b[0m \u001b[38;5;66;03m# What does np.array() do (no arguments passed to constructor).  Guess:  exception?\u001b[39;00m\n\u001b[1;32m----> 3\u001b[0m empty_array \u001b[38;5;241m=\u001b[39m \u001b[43mnp\u001b[49m\u001b[38;5;241;43m.\u001b[39;49m\u001b[43marray\u001b[49m\u001b[43m(\u001b[49m\u001b[43m)\u001b[49m\n\u001b[0;32m      4\u001b[0m \u001b[38;5;28mprint\u001b[39m(empty_array)\n\u001b[0;32m      5\u001b[0m \u001b[38;5;28mprint\u001b[39m(\u001b[38;5;124m\"\u001b[39m\u001b[38;5;124mShape:\u001b[39m\u001b[38;5;124m\"\u001b[39m, empty_array\u001b[38;5;241m.\u001b[39mshape)\n",
      "\u001b[1;31mTypeError\u001b[0m: array() missing required argument 'object' (pos 0)"
     ]
    }
   ],
   "source": [
    "# What does np.array() do (no arguments passed to constructor).  Guess:  exception?\n",
    "\n",
    "empty_array = np.array()\n",
    "print(empty_array)\n",
    "print(\"Shape:\", empty_array.shape)\n",
    "\n",
    "# np.array()"
   ]
  },
  {
   "cell_type": "code",
   "execution_count": 8,
   "id": "16405be3-a548-44a7-859b-37413301444c",
   "metadata": {},
   "outputs": [
    {
     "name": "stdout",
     "output_type": "stream",
     "text": [
      "['A' 'B' 'C' 'D' 'E' 'F' 'G' 'H' 'I' 'J' 'K' 'L' 'M' 'N' 'O' 'P' 'Q' 'R'\n",
      " 'S' 'T' 'U' 'V' 'W' 'X' 'Y' 'Z']\n"
     ]
    }
   ],
   "source": [
    "# How might you construct a NumPy array of capital letters (A-Z)\n",
    "letters_array = np.array(list(string.ascii_uppercase))\n",
    "print(letters_array)"
   ]
  },
  {
   "cell_type": "code",
   "execution_count": 9,
   "id": "d694e846-760c-4664-b9c7-a92cfdbe8d14",
   "metadata": {},
   "outputs": [
    {
     "data": {
      "text/plain": [
       "dtype('<U14')"
      ]
     },
     "execution_count": 9,
     "metadata": {},
     "output_type": "execute_result"
    }
   ],
   "source": [
    "arr = np.array(['fee', 'fi', 'fo', 'fumble-dee-dum'])\n",
    "arr.dtype"
   ]
  },
  {
   "cell_type": "code",
   "execution_count": 10,
   "id": "b52a1cb8-80af-457e-afd2-04e1490560bb",
   "metadata": {},
   "outputs": [
    {
     "data": {
      "text/plain": [
       "dtype('<U1')"
      ]
     },
     "execution_count": 10,
     "metadata": {},
     "output_type": "execute_result"
    }
   ],
   "source": [
    "arr = np.array([chr(i) for i in range(ord('A'), ord('Z') + 1)])\n",
    "arr.dtype\n",
    "arr[0].dtype"
   ]
  },
  {
   "cell_type": "code",
   "execution_count": 11,
   "id": "72382829-d390-49b2-9ff2-5ef95a2680aa",
   "metadata": {},
   "outputs": [
    {
     "data": {
      "text/plain": [
       "array([0., 0., 0., 0., 0., 0., 0., 0., 0., 0.])"
      ]
     },
     "execution_count": 11,
     "metadata": {},
     "output_type": "execute_result"
    }
   ],
   "source": [
    "# How would you create a ten-element array of all zeros?  \n",
    "\n",
    "arrzero = np.zeros(10)\n",
    "# Of all ones?\n",
    "arrzero\n"
   ]
  },
  {
   "cell_type": "code",
   "execution_count": null,
   "id": "2f7cb258-330a-40a5-8834-21cbe7698e04",
   "metadata": {},
   "outputs": [
    {
     "data": {
      "text/plain": [
       "dtype('float64')"
      ]
     },
     "execution_count": 12,
     "metadata": {},
     "output_type": "execute_result"
    }
   ],
   "source": [
    "# What is the default data dype for the np.zeros function?\n",
    "# what is the data type\n",
    "arrzero.dtype"
   ]
  },
  {
   "cell_type": "code",
   "execution_count": 18,
   "id": "4c75caaf-e958-4e36-8de5-d961d4486b3f",
   "metadata": {},
   "outputs": [
    {
     "data": {
      "text/plain": [
       "array([0, 1, 2, 3, 4, 5, 6, 7, 8, 9])"
      ]
     },
     "execution_count": 18,
     "metadata": {},
     "output_type": "execute_result"
    }
   ],
   "source": [
    "# How can you create an array of 10 random integers?\n",
    "randarr = np.arange(10,dtype=int)\n",
    "randarr\n",
    "\n"
   ]
  },
  {
   "cell_type": "code",
   "execution_count": 28,
   "id": "f7158956-24a4-43ff-a010-bd402fae8035",
   "metadata": {},
   "outputs": [
    {
     "data": {
      "image/png": "[encoded data removed]",
      "text/plain": [
       "<Figure size 640x480 with 1 Axes>"
      ]
     },
     "metadata": {},
     "output_type": "display_data"
    }
   ],
   "source": [
    "# How can you create a normal distribution of 10 numbers, centered on 5? \n",
    "# Note, the 1 in center represents mu, size of STD DEV, and is arbitrary.\n",
    "np.random.normal(loc=5, scale=1, size=10)\n",
    "import matplotlib.pyplot as plt\n",
    "\n",
    "# Generate 1000 random values with mean=0 and standard deviation=1\n",
    "data = np.random.normal(loc=5, scale=1, size=1000)\n",
    "\n",
    "# Plot histogram\n",
    "plt.hist(data, bins=30, density=True, alpha=0.2, color='b')\n",
    "plt.title(\"Normal Distribution (mean=0, std=1)\")\n",
    "plt.xlabel(\"Value\")\n",
    "plt.ylabel(\"Frequency\")\n",
    "plt.show()\n"
   ]
  },
  {
   "cell_type": "code",
   "execution_count": null,
   "id": "dc5e8220-3fa2-4851-b45c-58cca3a0f981",
   "metadata": {},
   "outputs": [
    {
     "data": {
      "text/plain": [
       "array([0.2365067 , 0.51606541, 0.29919266, 0.76414198, 0.00959263,\n",
       "       0.69097577, 0.98752813, 0.57887623, 0.19189372, 0.31183655])"
      ]
     },
     "execution_count": 32,
     "metadata": {},
     "output_type": "execute_result"
    }
   ],
   "source": [
    "# How can you create an array of 10 random numbers in the range 0 - 1?\n",
    "array_random = np.random.rand(10)\n",
    "array_random\n"
   ]
  },
  {
   "cell_type": "markdown",
   "id": "84dddbf7-fb7f-420d-bc1f-91c3154972d6",
   "metadata": {},
   "source": [
    "# Multidimensional arrays\n"
   ]
  },
  {
   "cell_type": "code",
   "execution_count": 33,
   "id": "9b570674-e7e0-4faa-a902-320051aff59f",
   "metadata": {},
   "outputs": [
    {
     "data": {
      "text/plain": [
       "array([[0., 0., 0., 0., 0.],\n",
       "       [0., 0., 0., 0., 0.],\n",
       "       [0., 0., 0., 0., 0.]])"
      ]
     },
     "execution_count": 33,
     "metadata": {},
     "output_type": "execute_result"
    }
   ],
   "source": [
    "np.zeros((3, 5))"
   ]
  },
  {
   "cell_type": "code",
   "execution_count": 34,
   "id": "582200e8-e936-40ce-9adc-d639c96c2680",
   "metadata": {},
   "outputs": [
    {
     "data": {
      "text/plain": [
       "array([[ 1,  2,  3,  4],\n",
       "       [ 5,  6,  7,  8],\n",
       "       [ 9, 10, 11, 12]])"
      ]
     },
     "execution_count": 34,
     "metadata": {},
     "output_type": "execute_result"
    }
   ],
   "source": [
    "myarray = np.arange(1, 13).reshape(3, 4)\n",
    "myarray"
   ]
  },
  {
   "cell_type": "code",
   "execution_count": 35,
   "id": "9ad5156c-2d5f-40d3-a19b-9170b40c2089",
   "metadata": {},
   "outputs": [
    {
     "data": {
      "text/plain": [
       "7"
      ]
     },
     "execution_count": 35,
     "metadata": {},
     "output_type": "execute_result"
    }
   ],
   "source": [
    "myarray[1,2]"
   ]
  },
  {
   "cell_type": "code",
   "execution_count": 36,
   "id": "42fb03ca-033a-475b-82a1-f5e0399a4cc6",
   "metadata": {},
   "outputs": [
    {
     "data": {
      "text/plain": [
       "2"
      ]
     },
     "execution_count": 36,
     "metadata": {},
     "output_type": "execute_result"
    }
   ],
   "source": [
    "myarray.ndim"
   ]
  },
  {
   "cell_type": "code",
   "execution_count": 37,
   "id": "8daa3694-3c11-4301-ba18-46e4be1f7e01",
   "metadata": {},
   "outputs": [],
   "source": [
    "myarray.reshape(2,3,2)\n",
    "myarray.resize(2,3,2)"
   ]
  },
  {
   "cell_type": "code",
   "execution_count": 38,
   "id": "89e6c481",
   "metadata": {},
   "outputs": [
    {
     "data": {
      "text/plain": [
       "3"
      ]
     },
     "execution_count": 38,
     "metadata": {},
     "output_type": "execute_result"
    }
   ],
   "source": [
    "myarray.ndim"
   ]
  },
  {
   "cell_type": "code",
   "execution_count": 39,
   "id": "c5928434-6ed0-4b3c-823f-70648b484115",
   "metadata": {},
   "outputs": [
    {
     "data": {
      "text/plain": [
       "array(['A', 'B', 'C', 'D', 'E', 'F', 'G', 'H', 'I', 'J', 'K', 'L', 'M',\n",
       "       'N', 'O', 'P', 'Q', 'R', 'S', 'T', 'U', 'V', 'W', 'X', 'Y', 'Z'],\n",
       "      dtype='<U1')"
      ]
     },
     "execution_count": 39,
     "metadata": {},
     "output_type": "execute_result"
    }
   ],
   "source": [
    "arr"
   ]
  },
  {
   "cell_type": "code",
   "execution_count": 40,
   "id": "4d648629-a4d3-4a15-8c39-5352e41ec9c2",
   "metadata": {},
   "outputs": [
    {
     "data": {
      "text/plain": [
       "(2, 3, 2)"
      ]
     },
     "execution_count": 40,
     "metadata": {},
     "output_type": "execute_result"
    }
   ],
   "source": [
    "myarray.shape"
   ]
  },
  {
   "cell_type": "code",
   "execution_count": 41,
   "id": "72f66823-409b-4fb3-8ad5-5ba51119fcdd",
   "metadata": {},
   "outputs": [
    {
     "data": {
      "text/plain": [
       "array([[ 1,  2,  3,  4,  5,  6],\n",
       "       [ 7,  8,  9, 10, 11, 12]])"
      ]
     },
     "execution_count": 41,
     "metadata": {},
     "output_type": "execute_result"
    }
   ],
   "source": [
    "myarray.reshape(2,6)"
   ]
  },
  {
   "cell_type": "code",
   "execution_count": 42,
   "id": "797c9764-6f92-4112-bf31-7545db1501b2",
   "metadata": {},
   "outputs": [
    {
     "data": {
      "text/plain": [
       "array([[[ 1,  2],\n",
       "        [ 3,  4],\n",
       "        [ 5,  6]],\n",
       "\n",
       "       [[ 7,  8],\n",
       "        [ 9, 10],\n",
       "        [11, 12]]])"
      ]
     },
     "execution_count": 42,
     "metadata": {},
     "output_type": "execute_result"
    }
   ],
   "source": [
    "myarray"
   ]
  },
  {
   "cell_type": "code",
   "execution_count": 44,
   "id": "e5ca08be-78d2-4f1f-9031-fc6c98d75622",
   "metadata": {},
   "outputs": [
    {
     "data": {
      "text/plain": [
       "array([[[ 1,  2],\n",
       "        [ 3,  4],\n",
       "        [ 5,  6]],\n",
       "\n",
       "       [[ 7,  8],\n",
       "        [ 9, 10],\n",
       "        [11, 12]]])"
      ]
     },
     "execution_count": 44,
     "metadata": {},
     "output_type": "execute_result"
    }
   ],
   "source": [
    "x = myarray\n",
    "x"
   ]
  },
  {
   "cell_type": "code",
   "execution_count": 45,
   "id": "f077a492-d21b-41e6-9c90-f5138375755f",
   "metadata": {},
   "outputs": [
    {
     "data": {
      "text/plain": [
       "array([[[42, 42],\n",
       "        [ 3,  4],\n",
       "        [ 5,  6]],\n",
       "\n",
       "       [[ 7,  8],\n",
       "        [ 9, 10],\n",
       "        [11, 12]]])"
      ]
     },
     "execution_count": 45,
     "metadata": {},
     "output_type": "execute_result"
    }
   ],
   "source": [
    "x[0,0] = 42\n",
    "myarray"
   ]
  },
  {
   "cell_type": "code",
   "execution_count": 50,
   "id": "6bb52949-e8bd-470b-97c5-db21a4506fb5",
   "metadata": {},
   "outputs": [
    {
     "data": {
      "text/plain": [
       "array([[4, 4, 4, 6],\n",
       "       [5, 5, 6, 3],\n",
       "       [5, 4, 3, 6]])"
      ]
     },
     "execution_count": 50,
     "metadata": {},
     "output_type": "execute_result"
    }
   ],
   "source": [
    "# Create a 3x4 array of random integers between 1 and 10 \n",
    "\n",
    "array_randint = np.random.randint(1,11,size = (3,4))\n",
    "array_randint\n"
   ]
  },
  {
   "cell_type": "code",
   "execution_count": 51,
   "id": "477de4fd-de29-4673-90f9-0f02eafd62b8",
   "metadata": {},
   "outputs": [
    {
     "data": {
      "text/plain": [
       "array([[ 2,  6,  2,  3],\n",
       "       [ 4,  5, 10,  1],\n",
       "       [ 9,  2,  9,  8]])"
      ]
     },
     "execution_count": 51,
     "metadata": {},
     "output_type": "execute_result"
    }
   ],
   "source": [
    "# ... or:\n",
    "    \n",
    "arr = np.random.randint(1,11,12).reshape(3,4)\n",
    "arr"
   ]
  },
  {
   "cell_type": "code",
   "execution_count": 52,
   "id": "50c4ec18-19f7-4388-b77b-9cbecbf843f6",
   "metadata": {},
   "outputs": [
    {
     "data": {
      "text/plain": [
       "array([[0, 0, 0, 0],\n",
       "       [0, 0, 0, 0],\n",
       "       [0, 0, 0, 0]])"
      ]
     },
     "execution_count": 52,
     "metadata": {},
     "output_type": "execute_result"
    }
   ],
   "source": [
    "arr - arr"
   ]
  },
  {
   "cell_type": "code",
   "execution_count": null,
   "id": "981ea130-d8ea-4130-9338-225223593a5a",
   "metadata": {},
   "outputs": [],
   "source": [
    "\n",
    "z_list = [z for z in range(0,5)]\n",
    "y_list = [z_list for y in range(0,4)] # creates a list of 4 copies of z_list.\n",
    "x_list = [y_list for x in range(0,3)] #A list comprehension that creates a list of 3 copies of y_list.\n",
    "\n",
    "x_array = np.array(x_list)\n",
    "\n",
    "\n",
    "         "
   ]
  },
  {
   "cell_type": "code",
   "execution_count": 56,
   "id": "c347cf60-68ee-4176-bc5d-932af651559e",
   "metadata": {},
   "outputs": [
    {
     "data": {
      "text/plain": [
       "(3, 4, 5)"
      ]
     },
     "execution_count": 56,
     "metadata": {},
     "output_type": "execute_result"
    }
   ],
   "source": [
    "# My guess is x_array.shape == 3,4,5.  Correct but show tuple brackets would be better\n",
    "x_array.shape"
   ]
  },
  {
   "cell_type": "code",
   "execution_count": 57,
   "id": "fc78bfe7-cf2e-4a2c-8035-6cf70e2c3876",
   "metadata": {},
   "outputs": [
    {
     "data": {
      "text/plain": [
       "3"
      ]
     },
     "execution_count": 57,
     "metadata": {},
     "output_type": "execute_result"
    }
   ],
   "source": [
    "# What is the value of x_array.ndim?\n",
    "x_array.ndim"
   ]
  },
  {
   "cell_type": "code",
   "execution_count": null,
   "id": "3295de06-6160-419c-a73a-b11df5fcf910",
   "metadata": {},
   "outputs": [
    {
     "data": {
      "text/plain": [
       "array([[0, 3],\n",
       "       [1, 4],\n",
       "       [2, 5]])"
      ]
     },
     "execution_count": 58,
     "metadata": {},
     "output_type": "execute_result"
    }
   ],
   "source": [
    "# Given the following:\n",
    "arr = np.arange(0,6).reshape(2,3)\n",
    "arr\n",
    "# How could you convert it to an array that looks like\n",
    "# array([[0,3], [1,4], [2,5]))\n",
    "# My answer either arr.transpose() or arr.T\n",
    "# (arr.transpose() == arr.T).all()\n",
    "# Note difference is mutablity?  NO!  Both return a view.  Need to copy.\n",
    "transposed_arr = arr.transpose()\n",
    "print(transposed_arr)#view\n",
    "transposed_copy = arr.transpose().copy()\n",
    "print(transposed_copy)\n"
   ]
  },
  {
   "cell_type": "code",
   "execution_count": 59,
   "id": "35d03861-17b9-42d4-aea3-b42c5aba8652",
   "metadata": {},
   "outputs": [
    {
     "data": {
      "text/plain": [
       "array([[ 1,  2,  3,  4,  5],\n",
       "       [ 6,  7,  8,  9, 10],\n",
       "       [11, 12, 13, 14, 15],\n",
       "       [16, 17, 18, 19, 20]])"
      ]
     },
     "execution_count": 59,
     "metadata": {},
     "output_type": "execute_result"
    }
   ],
   "source": [
    "four_by_five = np.arange(1, 21).reshape(4,5)\n",
    "four_by_five"
   ]
  },
  {
   "cell_type": "code",
   "execution_count": 60,
   "id": "d3882a92-0a58-415f-b55c-1a286288e7ce",
   "metadata": {},
   "outputs": [
    {
     "data": {
      "text/plain": [
       "array([1, 2, 3, 4, 5])"
      ]
     },
     "execution_count": 60,
     "metadata": {},
     "output_type": "execute_result"
    }
   ],
   "source": [
    "# Write an exoression to return the first row\n",
    "four_by_five[0]"
   ]
  },
  {
   "cell_type": "code",
   "execution_count": 61,
   "id": "2b8a9a1c-045a-4c03-b8e8-897bfe253d78",
   "metadata": {},
   "outputs": [
    {
     "data": {
      "text/plain": [
       "array([16, 17, 18, 19, 20])"
      ]
     },
     "execution_count": 61,
     "metadata": {},
     "output_type": "execute_result"
    }
   ],
   "source": [
    "# Write an exoression to return the last row\n",
    "four_by_five[-1]"
   ]
  },
  {
   "cell_type": "code",
   "execution_count": null,
   "id": "b2c4311c-51de-4f5a-801e-864b51666227",
   "metadata": {},
   "outputs": [
    {
     "data": {
      "text/plain": [
       "14"
      ]
     },
     "execution_count": 62,
     "metadata": {},
     "output_type": "execute_result"
    }
   ],
   "source": [
    "# What does four_by_five[2,3] return?\n",
    "four_by_five[2,3]"
   ]
  },
  {
   "cell_type": "code",
   "execution_count": 64,
   "id": "ba187a5d-e6d4-452d-af36-951d9c0ce1ce",
   "metadata": {},
   "outputs": [
    {
     "data": {
      "text/plain": [
       "18"
      ]
     },
     "execution_count": 64,
     "metadata": {},
     "output_type": "execute_result"
    }
   ],
   "source": [
    "# What does four_by_five[3,2] return?  \n",
    "four_by_five[3,2]"
   ]
  },
  {
   "cell_type": "code",
   "execution_count": null,
   "id": "f27bbdea-44d0-40db-840c-7ed785968bcc",
   "metadata": {},
   "outputs": [
    {
     "data": {
      "text/plain": [
       "array([ 1,  6, 11, 16])"
      ]
     },
     "execution_count": 65,
     "metadata": {},
     "output_type": "execute_result"
    }
   ],
   "source": [
    "# How could you return the first column?  It will be a (four-element array ending with 16.) \n",
    "four_by_five[:,0]"
   ]
  },
  {
   "cell_type": "code",
   "execution_count": 66,
   "id": "e98683e1-25d4-4bb5-a0b4-046f37b76073",
   "metadata": {},
   "outputs": [
    {
     "data": {
      "text/plain": [
       "array([[ 3,  4],\n",
       "       [ 8,  9],\n",
       "       [13, 14],\n",
       "       [18, 19]])"
      ]
     },
     "execution_count": 66,
     "metadata": {},
     "output_type": "execute_result"
    }
   ],
   "source": [
    "# What does four_by_five[:, 2:4] return?\n",
    "# My answer the last two columns -- wrong, third and fourth columns\n",
    "four_by_five[:, 2:4]"
   ]
  },
  {
   "cell_type": "code",
   "execution_count": 68,
   "id": "55f8a1e5-6cd0-4171-9593-2a1c3414e290",
   "metadata": {},
   "outputs": [
    {
     "data": {
      "text/plain": [
       "array([[ 4,  5],\n",
       "       [ 9, 10],\n",
       "       [14, 15],\n",
       "       [19, 20]])"
      ]
     },
     "execution_count": 68,
     "metadata": {},
     "output_type": "execute_result"
    }
   ],
   "source": [
    "# Corrected question\n",
    "# What does four_by_five[:, 3:5] return?\n",
    "four_by_five[:, 3:5] "
   ]
  },
  {
   "cell_type": "code",
   "execution_count": 69,
   "id": "91aefd49-65f6-4ade-9d9e-163b7ec4bd04",
   "metadata": {},
   "outputs": [
    {
     "data": {
      "text/plain": [
       "array([[ 9, 10],\n",
       "       [14, 15]])"
      ]
     },
     "execution_count": 69,
     "metadata": {},
     "output_type": "execute_result"
    }
   ],
   "source": [
    "# Write an expression to return the last two columns of the middle two rows.\n",
    "four_by_five[1:3, 3:] "
   ]
  },
  {
   "cell_type": "code",
   "execution_count": 70,
   "id": "d8dab8a1-5d00-4c46-a838-7fbd0772876a",
   "metadata": {},
   "outputs": [
    {
     "data": {
      "text/plain": [
       "array([1, 2, 3, 4, 5])"
      ]
     },
     "execution_count": 70,
     "metadata": {},
     "output_type": "execute_result"
    }
   ],
   "source": [
    "one_dim = np.arange(1,6)\n",
    "one_dim"
   ]
  },
  {
   "cell_type": "code",
   "execution_count": 71,
   "id": "59632045-f5c8-4571-90ff-c8ae172fddca",
   "metadata": {},
   "outputs": [
    {
     "data": {
      "text/plain": [
       "array([ 2,  4,  6,  8, 10])"
      ]
     },
     "execution_count": 71,
     "metadata": {},
     "output_type": "execute_result"
    }
   ],
   "source": [
    "# What would be the result of one_dim * 2\n",
    "one_dim * 2"
   ]
  },
  {
   "cell_type": "code",
   "execution_count": 74,
   "id": "1d8bac55-9919-42ca-a57b-8d96de4c055b",
   "metadata": {},
   "outputs": [
    {
     "data": {
      "text/plain": [
       "array([6, 6, 6, 6, 6])"
      ]
     },
     "execution_count": 74,
     "metadata": {},
     "output_type": "execute_result"
    }
   ],
   "source": [
    "# What would be the result of one_dim + np.arange(5, 0, -1)?\n",
    "one_dim + np.arange(5, 0, -1)"
   ]
  },
  {
   "cell_type": "code",
   "execution_count": 76,
   "id": "4930a95b-f550-4cdf-b779-e04c55b2d1d0",
   "metadata": {},
   "outputs": [
    {
     "data": {
      "text/plain": [
       "array([0, 0, 0, 0, 0])"
      ]
     },
     "execution_count": 76,
     "metadata": {},
     "output_type": "execute_result"
    }
   ],
   "source": [
    "# How many zeros are in the array returned by one_dim - one_dim ?\n",
    "\n",
    "one_dim - one_dim"
   ]
  },
  {
   "cell_type": "code",
   "execution_count": 78,
   "id": "08e01f28-cc36-45af-8600-781fa11c3a98",
   "metadata": {},
   "outputs": [
    {
     "data": {
      "text/plain": [
       "array([False, False,  True,  True,  True])"
      ]
     },
     "execution_count": 78,
     "metadata": {},
     "output_type": "execute_result"
    }
   ],
   "source": [
    "# What is the result of one_dim > 2 ?\n",
    "\n",
    "one_dim > 2"
   ]
  },
  {
   "cell_type": "code",
   "execution_count": 79,
   "id": "da58dc9e-9d31-4422-9602-bbb7d50da8d6",
   "metadata": {},
   "outputs": [
    {
     "data": {
      "text/plain": [
       "array([ True, False, False, False,  True])"
      ]
     },
     "execution_count": 79,
     "metadata": {},
     "output_type": "execute_result"
    }
   ],
   "source": [
    "# For NumPy arrays, logical operations are done with the operators \"&\" and \"|\", \n",
    "# rather than the usual Python \"and\" and \"or\".  Given that, can you evaluate this expression?  \n",
    "# (one_dim > 4) | (one_dim == 1)\n",
    "\n",
    "(one_dim > 4) | (one_dim == 1)"
   ]
  },
  {
   "cell_type": "code",
   "execution_count": null,
   "id": "09b89fce-0a25-4756-aacc-353f960153ea",
   "metadata": {},
   "outputs": [
    {
     "data": {
      "text/plain": [
       "array([-1, -2, -3, -4, -5])"
      ]
     },
     "execution_count": 80,
     "metadata": {},
     "output_type": "execute_result"
    }
   ],
   "source": [
    "# What is the result of -one_dim?\n",
    "\n",
    "-one_dim"
   ]
  },
  {
   "cell_type": "code",
   "execution_count": null,
   "id": "ed5b0df9-9b73-4405-bbec-268bfaa98333",
   "metadata": {},
   "outputs": [
    {
     "data": {
      "text/plain": [
       "array([4, 5])"
      ]
     },
     "execution_count": 81,
     "metadata": {},
     "output_type": "execute_result"
    }
   ],
   "source": [
    "# np.absolute take the absolute value of each element.  Given that, what would the result be of the following expression:\n",
    "np.absolute(-(one_dim[3:]))"
   ]
  },
  {
   "cell_type": "code",
   "execution_count": 82,
   "id": "f4612ae8-f93f-4296-8631-56d7ada74092",
   "metadata": {},
   "outputs": [
    {
     "data": {
      "text/plain": [
       "15"
      ]
     },
     "execution_count": 82,
     "metadata": {},
     "output_type": "execute_result"
    }
   ],
   "source": [
    "# What is returned by one_dim.sum()?\n",
    "\n",
    "one_dim.sum()"
   ]
  },
  {
   "cell_type": "code",
   "execution_count": 85,
   "id": "e97074f7-fd56-4274-99ad-7dbcaa4ecada",
   "metadata": {},
   "outputs": [
    {
     "name": "stdout",
     "output_type": "stream",
     "text": [
      "[1 2 3 4 5]\n"
     ]
    },
    {
     "data": {
      "text/plain": [
       "3.0"
      ]
     },
     "execution_count": 85,
     "metadata": {},
     "output_type": "execute_result"
    }
   ],
   "source": [
    "# What is the value of one_dim.mean() ?\n",
    "\n",
    "print(one_dim) #sum / number\n",
    "one_dim.mean() # The median!\n"
   ]
  },
  {
   "cell_type": "code",
   "execution_count": 86,
   "id": "b4a5e90d-f681-445e-a150-b103c44e6a8b",
   "metadata": {},
   "outputs": [
    {
     "data": {
      "text/plain": [
       "array([0.        , 1.57079633, 3.14159265, 4.71238898, 6.28318531])"
      ]
     },
     "execution_count": 86,
     "metadata": {},
     "output_type": "execute_result"
    }
   ],
   "source": [
    "# Given the following...\n",
    "\n",
    "arr = np.array([0., .5, 1.0, 1.5, 2.0]) * np.pi\n",
    "arr"
   ]
  },
  {
   "cell_type": "code",
   "execution_count": null,
   "id": "f1cfb763-4648-475a-83eb-d7472f33055c",
   "metadata": {},
   "outputs": [
    {
     "data": {
      "text/plain": [
       "array([ 0.,  1.,  0., -1., -0.])"
      ]
     },
     "execution_count": 87,
     "metadata": {},
     "output_type": "execute_result"
    }
   ],
   "source": [
    "# What are the \"approximate\" values for \n",
    "# np.around(np.sin(arr), 0)\n",
    "np.around(np.sin(arr), 0)\n"
   ]
  },
  {
   "cell_type": "code",
   "execution_count": 88,
   "id": "3b9c5f32-7009-4ba2-b2dc-31ec5d0ddfbd",
   "metadata": {},
   "outputs": [
    {
     "data": {
      "text/plain": [
       "array([ 1.,  0., -1., -0.,  1.])"
      ]
     },
     "execution_count": 88,
     "metadata": {},
     "output_type": "execute_result"
    }
   ],
   "source": [
    "# What are the approximate values for \n",
    "# np.around(np.cos(arr), 0)\n",
    "\n",
    "np.around(np.cos(arr), 0)"
   ]
  },
  {
   "cell_type": "code",
   "execution_count": 91,
   "id": "318d64da-cf28-448c-8052-a5545420ed1f",
   "metadata": {},
   "outputs": [],
   "source": [
    "# You're asked to save the following two arrays as is to a file, \"data.npz\". The arrays should be named as they are here in the file. How could you do it?\n",
    "people = np.array([\"John\", \"Jenniffer\", \"Helen\", \"Miryam\"])\n",
    "languages = np.array([2, 2, 1, 1])\n",
    "\n",
    "np.savez(\"data.nplanguage\", people=people, languages=languages)"
   ]
  },
  {
   "cell_type": "code",
   "execution_count": 95,
   "id": "3e9238c9-83be-471e-b4ee-62940f941ce4",
   "metadata": {},
   "outputs": [
    {
     "name": "stdout",
     "output_type": "stream",
     "text": [
      "['John' 'Jenniffer' 'Helen' 'Miryam']\n",
      "[2 2 1 1]\n"
     ]
    }
   ],
   "source": [
    "# How could you load the files again into two new variables, people2 and languages2\n",
    "\n",
    "arrays = np.load(\"D:/Microsoft ml engineer/worksession/data.nplanguage.npz\")\n",
    "people2 = arrays[\"people\"]\n",
    "languages2 = arrays[\"languages\"]\n",
    "print(people2)\n",
    "print(languages2)"
   ]
  },
  {
   "cell_type": "code",
   "execution_count": 96,
   "id": "05dbbe29-7b09-42e7-bd28-c5b999f1152a",
   "metadata": {},
   "outputs": [],
   "source": [
    "# Given \n",
    "# arr = np.arange(1,13).reshape(3,4)\n",
    "# Save it to a csv file, \"myrray.csv\".\n",
    "arr = np.arange(1,13).reshape(3,4)\n",
    "np.savetxt(\"myarray.csv\", arr, delimiter=\",\",header='myrray')"
   ]
  },
  {
   "cell_type": "code",
   "execution_count": 97,
   "id": "4ba692a5-9de6-41c2-9ef3-2cf32f6b3935",
   "metadata": {},
   "outputs": [
    {
     "data": {
      "text/plain": [
       "array([[ 1.,  2.,  3.,  4.],\n",
       "       [ 5.,  6.,  7.,  8.],\n",
       "       [ 9., 10., 11., 12.]])"
      ]
     },
     "execution_count": 97,
     "metadata": {},
     "output_type": "execute_result"
    }
   ],
   "source": [
    "# How would you load it back into arr2?\n",
    "# My guess: arr2 = np.loadtxt(\"myarray.csv\", delimiter=\",\")\n",
    "arr2 = np.loadtxt(\"myarray.csv\", delimiter=\",\")\n",
    "arr2"
   ]
  },
  {
   "cell_type": "code",
   "execution_count": 98,
   "id": "44a727b0-fe2d-4bd0-a9a0-1c053df15db3",
   "metadata": {},
   "outputs": [
    {
     "data": {
      "text/plain": [
       "array([\"I'm\", 'a', 'lumberjack', 'and', \"I'm\", 'OK', 'I', 'sleep', 'all',\n",
       "       'night', 'and', 'I', 'work', 'all', 'day'], dtype='<U10')"
      ]
     },
     "execution_count": 98,
     "metadata": {},
     "output_type": "execute_result"
    }
   ],
   "source": [
    "# Given \n",
    "\n",
    "lumberjack = np.array(\"I'm a lumberjack and I'm OK I sleep all night and I work all day\".split(\" \"))\n",
    "lumberjack\n"
   ]
  },
  {
   "cell_type": "code",
   "execution_count": 99,
   "id": "333cab80-895e-4b55-bef1-31c1905fb7e5",
   "metadata": {},
   "outputs": [
    {
     "data": {
      "text/plain": [
       "array([\"I'm\", 'A', 'Lumberjack', 'And', \"I'm\", 'Ok', 'I', 'Sleep', 'All',\n",
       "       'Night', 'And', 'I', 'Work', 'All', 'Day'], dtype='<U10')"
      ]
     },
     "execution_count": 99,
     "metadata": {},
     "output_type": "execute_result"
    }
   ],
   "source": [
    "# How could you capitalize the first character of each string?\n",
    "# Guessed np.capitalize(lumberjack) wrong\n",
    "np.char.capitalize(lumberjack)"
   ]
  },
  {
   "cell_type": "code",
   "execution_count": 100,
   "id": "11934bc2-e138-4735-ab81-7a08cefe37a6",
   "metadata": {},
   "outputs": [
    {
     "data": {
      "text/plain": [
       "'Lumberjack'"
      ]
     },
     "execution_count": 100,
     "metadata": {},
     "output_type": "execute_result"
    }
   ],
   "source": [
    "# What would you expect the value of np.char.capitalize(lunberjack)[2] to be?\n",
    "# My answer \"Lumberjack\"\n",
    "np.char.capitalize(lumberjack)[2]"
   ]
  },
  {
   "cell_type": "code",
   "execution_count": 101,
   "id": "452a193d-06da-4db4-bbe1-f47b154de04a",
   "metadata": {},
   "outputs": [
    {
     "data": {
      "text/plain": [
       "array([\"*I'm*\", '*a*', '*lumberjack*', '*and*', \"*I'm*\", '*OK*', '*I*',\n",
       "       '*sleep*', '*all*', '*night*', '*and*', '*I*', '*work*', '*all*',\n",
       "       '*day*'], dtype='<U12')"
      ]
     },
     "execution_count": 101,
     "metadata": {},
     "output_type": "execute_result"
    }
   ],
   "source": [
    "# How could you surround each string with an initial and final asterisk character (*)?  \n",
    "# Guessed add takes n arguments, wrong, need two arguments at a time\n",
    "np.char.add(np.char.add(\"*\", lumberjack), \"*\")"
   ]
  },
  {
   "cell_type": "code",
   "execution_count": null,
   "id": "d28f1de2-6329-4036-abce-268fd6cc209a",
   "metadata": {},
   "outputs": [],
   "source": [
    "# np.where can be used to make selections.  How can we use this to create a smaller array of those strings that have a length >= 5?\n"
   ]
  },
  {
   "cell_type": "code",
   "execution_count": 102,
   "id": "8d279d64-e5fd-4841-b2a1-4283207afbbd",
   "metadata": {},
   "outputs": [
    {
     "data": {
      "text/plain": [
       "(array([2, 7, 9], dtype=int64),)"
      ]
     },
     "execution_count": 102,
     "metadata": {},
     "output_type": "execute_result"
    }
   ],
   "source": [
    "np.where(np.char.str_len(lumberjack) >=5)"
   ]
  },
  {
   "cell_type": "code",
   "execution_count": 103,
   "id": "b3c073c8-984e-42d1-85b4-161dd02176ba",
   "metadata": {},
   "outputs": [
    {
     "data": {
      "text/plain": [
       "array(['lumberjack', 'sleep', 'night'], dtype='<U10')"
      ]
     },
     "execution_count": 103,
     "metadata": {},
     "output_type": "execute_result"
    }
   ],
   "source": [
    "lumberjack[np.where(np.char.str_len(lumberjack) >=5)]"
   ]
  }
 ],
 "metadata": {
  "kernelspec": {
   "display_name": "Python 3",
   "language": "python",
   "name": "python3"
  },
  "language_info": {
   "codemirror_mode": {
    "name": "ipython",
    "version": 3
   },
   "file_extension": ".py",
   "mimetype": "text/x-python",
   "name": "python",
   "nbconvert_exporter": "python",
   "pygments_lexer": "ipython3",
   "version": "3.11.2"
  }
 },
 "nbformat": 4,
 "nbformat_minor": 5
}
